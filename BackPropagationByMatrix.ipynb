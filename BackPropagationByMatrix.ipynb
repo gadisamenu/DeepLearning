{
  "nbformat": 4,
  "nbformat_minor": 0,
  "metadata": {
    "colab": {
      "provenance": []
    },
    "kernelspec": {
      "name": "python3",
      "display_name": "Python 3"
    },
    "language_info": {
      "name": "python"
    }
  },
  "cells": [
    {
      "cell_type": "code",
      "execution_count": 64,
      "metadata": {
        "id": "wWxE1CPa5-qY"
      },
      "outputs": [],
      "source": [
        "import torch"
      ]
    },
    {
      "cell_type": "markdown",
      "source": [
        "## Creating Layers"
      ],
      "metadata": {
        "id": "fM3XenkL6IGL"
      }
    },
    {
      "cell_type": "code",
      "source": [
        "class DenseLayer:\n",
        "  # Layer initialization\n",
        "  def __init__(self, n_inputs, n_neurons):\n",
        "    # Initialize weights and biases\n",
        "    self.weights = 0.01 * torch.rand(n_inputs, n_neurons)\n",
        "    self.biases = torch.zeros((1, n_neurons))\n",
        "\n",
        "  # Forward pass\n",
        "  def forward(self, inputs):\n",
        "    # record the inputs\n",
        "    self.inputs = inputs\n",
        "    # Calculate output values from inputs, weights and biases\n",
        "    self.output = torch.matmul(inputs, self.weights) + self.biases\n",
        "\n",
        "  # Backward pass\n",
        "  def backward(self, dvalues):\n",
        "    # Gradients on parameters\n",
        "    self.dweights = torch.dot(self.inputs.T, dvalues)\n",
        "    self.dbiases = torch.sum(dvalues, axis=0, keepdims=True)\n",
        "    # Gradient on values\n",
        "    self.dinputs = torch.dot(dvalues, self.weights.T)"
      ],
      "metadata": {
        "id": "wxjHeQ2L6EG5"
      },
      "execution_count": 65,
      "outputs": []
    },
    {
      "cell_type": "markdown",
      "source": [
        "## Activation Functions"
      ],
      "metadata": {
        "id": "KU4g8R5m6L4W"
      }
    },
    {
      "cell_type": "code",
      "source": [
        "class Activation_ReLU:\n",
        "  # Forward pass\n",
        "  def forward(self, inputs):\n",
        "    # Remember input values\n",
        "    self.inputs = inputs\n",
        "    self.output = torch.max(torch.tensor(0),inputs)\n",
        "  # Backward pass\n",
        "  def backward(self, dvalues):\n",
        "    self.dinputs = dvalues\n",
        "    # Zero gradient where input values were negative\n",
        "    self.dinputs[self.inputs <= 0] = 0"
      ],
      "metadata": {
        "id": "ekTPeeh06O2f"
      },
      "execution_count": 66,
      "outputs": []
    },
    {
      "cell_type": "code",
      "source": [
        "class Activation_Softmax:\n",
        "  # Forward pass\n",
        "  def forward(self, inputs):\n",
        "    # Get unnormalized probabilities\n",
        "    exp_values = torch.exp(inputs - torch.max(inputs, axis=1, keepdim=True).values)\n",
        "    # Normalize them for each sample\n",
        "    probabilities = exp_values / torch.sum(exp_values, axis=1, keepdim=True)\n",
        "    self.output = probabilities\n",
        "  # Backward pass\n",
        "  def backward(self, dvalues):\n",
        "    # Create uninitialized array\n",
        "    self.dinputs = torch.empty_like(dvalues)\n",
        "    # Enumerate outputs and gradients\n",
        "    for index, (single_output, single_dvalues) in enumerate(zip(self.output, dvalues)):\n",
        "      # Flatten output array\n",
        "      single_output = single_output.reshape(-1, 1)\n",
        "      # Calculate Jacobian matrix of the output and\n",
        "      jacobian_matrix = torch.diagflat(single_output) - torch.dot(single_output, single_output.T)\n",
        "    # Calculate sample-wise gradient\n",
        "    # and add it to the array of sample gradients\n",
        "    self.dinputs[index] = torch.dot(jacobian_matrix, single_dvalues)"
      ],
      "metadata": {
        "id": "MgJQmWIl6SOW"
      },
      "execution_count": 67,
      "outputs": []
    },
    {
      "cell_type": "code",
      "source": [
        "class Activation_Sigmoid:\n",
        "  # Forward pass\n",
        "  def forward(self,inputs):\n",
        "    self.outputs = torch.sigmoid(inputs)\n",
        "\n",
        "  #Backward pass\n",
        "  def backward(self,dvalues):\n",
        "    # Derivation of sigmoid\n",
        "    self.dactivation = self.outputs*(1 - self.outputs)\n",
        "    # mulitply with the input\n",
        "    self.dinput = self.dactivation*dvalues\n",
        "\n"
      ],
      "metadata": {
        "id": "TnvFqRKyxjxJ"
      },
      "execution_count": 68,
      "outputs": []
    },
    {
      "cell_type": "markdown",
      "source": [
        "## Loss"
      ],
      "metadata": {
        "id": "4xr7FgVh6ZbX"
      }
    },
    {
      "cell_type": "code",
      "source": [
        "class Loss_CategoricalCrossentropy() :\n",
        "  # Forward pass\n",
        "  def forward(self, y_pred, y_true):\n",
        "    samples = len(y_pred)\n",
        "    # Clip data to prevent division by 0\n",
        "    # Clip both sides to not drag mean towards any value\n",
        "    y_pred_clipped = torch.clip(y_pred, 1e-8, 1 - 1e-8)\n",
        "    # only if categorical labels\n",
        "    if len(y_true.shape) == 1:\n",
        "      correct_confidences = y_pred_clipped[range(samples), y_true]\n",
        "    # Mask values - only for one-hot encoded labels\n",
        "    elif len(y_true.shape) == 2:\n",
        "      correct_confidences = torch.sum(y_pred_clipped * y_true, axis=1)\n",
        "    log_loss = -torch.log(correct_confidences)\n",
        "    data_loss = torch.mean(log_loss)\n",
        "    return data_loss\n",
        "  # Backward pass\n",
        "  def backward(self, dvalues, y_true):\n",
        "    # Number of samples\n",
        "    samples = len(dvalues)\n",
        "    # Number of labels in every sample\n",
        "    # We'll use the first sample to count them\n",
        "    labels = len(dvalues[0])\n",
        "    # If labels are sparse, turn them into one-hot vector\n",
        "    if len(y_true.shape) == 1:\n",
        "      y_true = torch.eye(labels)[y_true]\n",
        "    # Calculate gradient\n",
        "    self.dinputs = -y_true / dvalues\n",
        "    # Normalize gradient\n",
        "    self.dinputs = self.dinputs / samples"
      ],
      "metadata": {
        "id": "T2sIQaNy6Z8N"
      },
      "execution_count": 69,
      "outputs": []
    },
    {
      "cell_type": "code",
      "source": [
        "class MSE():\n",
        "  #Forward pass\n",
        "  def forward(self,y_pred,y_true):\n",
        "    self.outputs = torch.mean(0.5*(y_true - y_pred)**2)\n",
        "    return self.outputs\n",
        "\n",
        "  #Backward pass\n",
        "  def backward(self,y_pred, y_true):\n",
        "    return y_pred - y_true"
      ],
      "metadata": {
        "id": "qztnOoweDjVF"
      },
      "execution_count": 70,
      "outputs": []
    },
    {
      "cell_type": "markdown",
      "source": [
        "## Accuracy"
      ],
      "metadata": {
        "id": "OW9KB2zJ6gTm"
      }
    },
    {
      "cell_type": "code",
      "source": [
        "class Accuracy():\n",
        "  def calculate(self, y_pred, y_true):\n",
        "    predictions = torch.argmax(y_pred, axis=1)\n",
        "    if len(y_true.shape) == 2:\n",
        "      y_true = torch.argmax(y_true, axis=1)\n",
        "    accuracy = torch.mean((predictions == y_true).float())\n",
        "    return accuracy"
      ],
      "metadata": {
        "id": "OQLwwN_46fQw"
      },
      "execution_count": 71,
      "outputs": []
    },
    {
      "cell_type": "markdown",
      "source": [
        "## Optimizers"
      ],
      "metadata": {
        "id": "l-n8cS691KcR"
      }
    },
    {
      "cell_type": "code",
      "source": [
        "class Optimizer_SGD:\n",
        "  # Initialize optimizer - set settings,\n",
        "  def __init__(self, learning_rate=0.01):\n",
        "    self.learning_rate = learning_rate\n",
        "  # Update parameters\n",
        "  def update_params(self, layer):\n",
        "    layer.weights += -self.learning_rate * layer.dweights\n",
        "    layer.biases += -self.learning_rate * layer.dbiases"
      ],
      "metadata": {
        "id": "Kr7PNtTD1QZi"
      },
      "execution_count": 72,
      "outputs": []
    },
    {
      "cell_type": "code",
      "source": [
        "x = torch.rand(4,2)\n",
        "y_true = torch.tensor([0,1,0,1])"
      ],
      "metadata": {
        "id": "kfZcFo77Sye6"
      },
      "execution_count": 73,
      "outputs": []
    },
    {
      "cell_type": "code",
      "source": [
        "dense_layer1 = DenseLayer(2,2)\n",
        "activation1 = Activation_ReLU()\n",
        "output_layer = DenseLayer(2,2)\n",
        "activation2 = Activation_Sigmoid()\n",
        "mse = MSE()\n",
        "optimization = Optimizer_SGD()"
      ],
      "metadata": {
        "id": "3ZAjbDB8SvgD"
      },
      "execution_count": 74,
      "outputs": []
    },
    {
      "cell_type": "code",
      "source": [
        "epochs = 20"
      ],
      "metadata": {
        "id": "1JEBQocZldd4"
      },
      "execution_count": 75,
      "outputs": []
    },
    {
      "cell_type": "code",
      "source": [
        "for e in range(epochs):\n",
        "  for index in range(len(x)):\n",
        "    row = x[index]\n",
        "    #forward pass\n",
        "    dense_layer1.forward(row)\n",
        "    activation1.forward(dense_layer1.output)\n",
        "    output_layer.forward(activation1.output)\n",
        "    activation2.forward(output_layer.output)\n",
        "\n",
        "    #error calculation\n",
        "    pred = torch.argmax(activation2.outputs,axis=1)\n",
        "    mse.forward(pred,y_true)\n",
        "\n",
        "    #backward pass\n",
        "    loss_grad = mse.backward(pred[0],y_true[index])\n",
        "    activation2.backward(loss_grad)\n",
        "    output_layer.backward(activation2.dinput)\n",
        "    activation1.backward(output_layer.dinputs)\n",
        "    dense_layer1.backward(activation1.dinputs)\n",
        "\n",
        "    # update weights\n",
        "    optimization.update_params(dense_layer1)\n",
        "    optimization.update_params(output_layer)\n",
        "\n",
        "\n",
        "\n"
      ],
      "metadata": {
        "id": "EnEOzypILkJH"
      },
      "execution_count": null,
      "outputs": []
    }
  ]
}