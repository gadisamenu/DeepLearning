{
  "nbformat": 4,
  "nbformat_minor": 0,
  "metadata": {
    "colab": {
      "provenance": []
    },
    "kernelspec": {
      "name": "python3",
      "display_name": "Python 3"
    },
    "language_info": {
      "name": "python"
    }
  },
  "cells": [
    {
      "cell_type": "code",
      "execution_count": null,
      "metadata": {
        "id": "TmpFdmkbZZxm"
      },
      "outputs": [],
      "source": [
        "import torch"
      ]
    },
    {
      "cell_type": "code",
      "source": [
        "class DenseLayer:\n",
        "  def __init__(self,n_inputs,n_neurons):\n",
        "    self.weights = torch.rand(n_inputs, n_neurons)\n",
        "    self.bias = torch.rand((1, n_neurons))\n",
        "    self.output = None\n",
        "  def forward(self, inputs):\n",
        "    self.output = torch.matmul(inputs, self.weights) + self.bias\n",
        "    return self.output"
      ],
      "metadata": {
        "id": "Nlwm49igZ3kA"
      },
      "execution_count": null,
      "outputs": []
    },
    {
      "cell_type": "code",
      "source": [
        "\n",
        "# Define the architecture\n",
        "n_inputs = 5\n",
        "hidden_layer_sizes = [16, 16, 16]\n",
        "n_output = 5\n",
        "\n",
        "# Create instances of the DenseLayer class\n",
        "layers = []\n",
        "\n",
        "# Input layer\n",
        "layers.append(DenseLayer(n_inputs, hidden_layer_sizes[0]))\n",
        "\n",
        "# Hidden layers\n",
        "for i in range(0, len(hidden_layer_sizes)-1):\n",
        "    layers.append(DenseLayer(hidden_layer_sizes[i], hidden_layer_sizes[i+1]))\n",
        "\n",
        "# Output layer\n",
        "layers.append(DenseLayer(hidden_layer_sizes[-1], n_output))\n",
        "\n",
        "# Create random input data\n",
        "input_data = torch.rand(1, n_inputs)\n",
        "\n",
        "# Forward pass\n",
        "output = input_data\n",
        "for layer in layers:\n",
        "  output = layer.forward(output)\n",
        "\n",
        "# The 'output' variable now contains the final output of the neural network.\n",
        "print(output)\n"
      ],
      "metadata": {
        "colab": {
          "base_uri": "https://localhost:8080/"
        },
        "id": "iNqLeXGZZjRp",
        "outputId": "07490f2e-cb0d-4a01-d452-7bc6c6d8f041"
      },
      "execution_count": null,
      "outputs": [
        {
          "output_type": "stream",
          "name": "stdout",
          "text": [
            "tensor([[623.3102, 962.9457, 802.0020, 714.5171, 670.1956]])\n"
          ]
        }
      ]
    }
  ]
}