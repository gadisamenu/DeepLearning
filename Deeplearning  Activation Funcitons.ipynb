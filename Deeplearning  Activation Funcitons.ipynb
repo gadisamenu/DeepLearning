{
  "nbformat": 4,
  "nbformat_minor": 0,
  "metadata": {
    "colab": {
      "provenance": []
    },
    "kernelspec": {
      "name": "python3",
      "display_name": "Python 3"
    },
    "language_info": {
      "name": "python"
    }
  },
  "cells": [
    {
      "cell_type": "code",
      "execution_count": null,
      "metadata": {
        "id": "TmpFdmkbZZxm"
      },
      "outputs": [],
      "source": [
        "import torch\n",
        "from enum import Enum"
      ]
    },
    {
      "cell_type": "code",
      "source": [
        "class Activation(Enum):\n",
        "    RELU = 1\n",
        "    SOFTMAX = 2\n",
        "    SIGMOID = 3"
      ],
      "metadata": {
        "id": "MDtVF6oJIXOY"
      },
      "execution_count": null,
      "outputs": []
    },
    {
      "cell_type": "code",
      "source": [
        "class DenseLayer:\n",
        "  def __init__(self,n_inputs,n_neurons):\n",
        "    self.weights = torch.rand(n_inputs, n_neurons)\n",
        "    self.bias = torch.rand((1, n_neurons))\n",
        "    self.output = None\n",
        "\n",
        "  def forward(self, inputs,activation:Activation):\n",
        "    self.output = torch.matmul(inputs, self.weights) + self.bias\n",
        "\n",
        "    if activation == Activation.RELU:\n",
        "      self.output =  self.relu(self.output)\n",
        "    elif activation == Activation.SOFTMAX:\n",
        "      self.output =  self.softmax(self.output)\n",
        "    elif activation == Activation.SIGMOID:\n",
        "      self.output =  self.sigmoid(self.output)\n",
        "\n",
        "    return self.output\n",
        "\n",
        "  def sigmoid(self, x):\n",
        "    return 1 / (1 + torch.exp(-x))\n",
        "\n",
        "  def relu(self, x):\n",
        "    return torch.max(torch.zeros_like(x), x)\n",
        "\n",
        "  def softmax(self, x):\n",
        "    exponentiated = torch.exp(x - torch.max(x, dim=1, keepdim=True)[0])\n",
        "    return exponentiated / torch.sum(exponentiated, dim=1, keepdim=True)"
      ],
      "metadata": {
        "id": "Nlwm49igZ3kA"
      },
      "execution_count": 42,
      "outputs": []
    },
    {
      "cell_type": "code",
      "source": [
        "class Loss_CategoricalCrossentropy() :\n",
        "  def forward(self, y_pred, y_true):\n",
        "    loss = -torch.sum(y_true * torch.log(y_pred + 1e-10), dim=-1)\n",
        "    loss = torch.mean(loss)\n",
        "    return loss"
      ],
      "metadata": {
        "id": "JAJAYfZZHYAC"
      },
      "execution_count": 43,
      "outputs": []
    },
    {
      "cell_type": "code",
      "source": [
        "input_features = 4\n",
        "hidden_layer_sizes = [18, 18, 18]\n",
        "output_classes = 3\n",
        "\n",
        "hidden_layers = []\n",
        "for size in hidden_layer_sizes:\n",
        "    layer = DenseLayer(input_features, size)\n",
        "    hidden_layers.append(layer)\n",
        "    input_features = size\n",
        "\n",
        "output_layer = DenseLayer(hidden_layer_sizes[-1], output_classes)"
      ],
      "metadata": {
        "id": "ezWsyoJhKpdk"
      },
      "execution_count": 44,
      "outputs": []
    },
    {
      "cell_type": "markdown",
      "source": [],
      "metadata": {
        "id": "FU0C41sLKpGy"
      }
    },
    {
      "cell_type": "code",
      "source": [
        "\n",
        "# by sigmoid\n",
        "input_data = torch.rand(1, 4)\n",
        "\n",
        "for layer in hidden_layers:\n",
        "    input_data = layer.forward(input_data, Activation.SIGMOID)\n",
        "\n",
        "output = output_layer.forward(input_data, Activation.SOFTMAX)\n",
        "target = torch.tensor([1, 0, 0])\n",
        "\n",
        "categoricalLoss = Loss_CategoricalCrossentropy()\n",
        "pred_labels = torch.argmax(output,axis=1)\n",
        "actual_loss = categoricalLoss.forward(output, target)\n",
        "accuracy = torch.eq(pred_labels, target)\n",
        "\n",
        "print(\"Output:\", output)\n",
        "print(\"Categorical Loss:\", actual_loss)\n",
        "print(\"Accuracy:\", accuracy)\n"
      ],
      "metadata": {
        "colab": {
          "base_uri": "https://localhost:8080/"
        },
        "id": "iNqLeXGZZjRp",
        "outputId": "ee61952f-a192-4e46-cd32-504e98ea03fa"
      },
      "execution_count": 45,
      "outputs": [
        {
          "output_type": "stream",
          "name": "stdout",
          "text": [
            "Output: tensor([[0.0119, 0.9843, 0.0038]])\n",
            "Categorical Loss: tensor(4.4327)\n",
            "Accuracy: tensor([ True, False, False])\n"
          ]
        }
      ]
    },
    {
      "cell_type": "code",
      "source": [
        "# by relu\n",
        "\n",
        "input_data = torch.rand(1, 4)\n",
        "\n",
        "for layer in hidden_layers:\n",
        "    input_data = layer.forward(input_data, Activation.RELU)\n",
        "\n",
        "output = output_layer.forward(input_data, Activation.SOFTMAX)\n",
        "target = torch.tensor([1, 0, 0])\n",
        "\n",
        "categoricalLoss = Loss_CategoricalCrossentropy()\n",
        "pred_labels = torch.argmax(output,axis=1)\n",
        "loss = categoricalLoss.forward(output, target)\n",
        "accuracy = torch.eq(pred_labels, target)\n",
        "\n",
        "print(\"Output:\", output)\n",
        "print(\"Categorical Loss:\", actual_loss)\n",
        "print(\"Accuracy:\", accuracy)"
      ],
      "metadata": {
        "colab": {
          "base_uri": "https://localhost:8080/"
        },
        "id": "uhZZxasmK8AI",
        "outputId": "c38a3b97-8508-4458-b08b-08bda10f0743"
      },
      "execution_count": 46,
      "outputs": [
        {
          "output_type": "stream",
          "name": "stdout",
          "text": [
            "Output: tensor([[0., 1., 0.]])\n",
            "Categorical Loss: tensor(4.4327)\n",
            "Accuracy: tensor([ True, False, False])\n"
          ]
        }
      ]
    }
  ]
}